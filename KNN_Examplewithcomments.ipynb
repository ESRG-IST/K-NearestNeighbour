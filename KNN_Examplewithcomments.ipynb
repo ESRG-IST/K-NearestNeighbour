{
 "cells": [
  {
   "cell_type": "markdown",
   "id": "7428d56f",
   "metadata": {},
   "source": [
    "# K Nearest Neighbour"
   ]
  },
  {
   "cell_type": "markdown",
   "id": "c4584848",
   "metadata": {},
   "source": [
    "## The KNN Algorithm\n",
    "1) Load the data\n",
    "\n",
    "2) Initialize K to your chosen number of neighbors\n",
    "\n",
    "3) For each example in the data\n",
    "\n",
    "    1) Calculate the distance between the query example and the current example from the data.\n",
    "    2) Add the distance and the index of the example to an ordered collection\n",
    "\n",
    "4) Sort the ordered collection of distances and indices from smallest to largest (in ascending order) by the distances\n",
    "\n",
    "5) Pick the first K entries from the sorted collection\n",
    "\n",
    "6) Get the labels of the selected K entries\n",
    "\n",
    "7) If regression, return the mean of the K labels\n",
    "\n",
    "8) If classification, return the mode of the K labels"
   ]
  },
  {
   "cell_type": "markdown",
   "id": "94ff9452",
   "metadata": {},
   "source": [
    "## Implementation"
   ]
  },
  {
   "cell_type": "code",
   "execution_count": 1,
   "id": "d7523f5c",
   "metadata": {},
   "outputs": [],
   "source": [
    "\"K-Nearest Neighbour\"\n",
    "\n",
    "import pandas as pd             #The Pandas Library for data analysis\n",
    "from statistics import mode     #The statistics library for calculating modes\n"
   ]
  },
  {
   "cell_type": "code",
   "execution_count": 2,
   "id": "8f408600",
   "metadata": {},
   "outputs": [
    {
     "data": {
      "text/html": [
       "<div>\n",
       "<style scoped>\n",
       "    .dataframe tbody tr th:only-of-type {\n",
       "        vertical-align: middle;\n",
       "    }\n",
       "\n",
       "    .dataframe tbody tr th {\n",
       "        vertical-align: top;\n",
       "    }\n",
       "\n",
       "    .dataframe thead th {\n",
       "        text-align: right;\n",
       "    }\n",
       "</style>\n",
       "<table border=\"1\" class=\"dataframe\">\n",
       "  <thead>\n",
       "    <tr style=\"text-align: right;\">\n",
       "      <th></th>\n",
       "      <th>rWC</th>\n",
       "      <th>rCh</th>\n",
       "      <th>Atom</th>\n",
       "      <th>Type</th>\n",
       "    </tr>\n",
       "  </thead>\n",
       "  <tbody>\n",
       "    <tr>\n",
       "      <th>0</th>\n",
       "      <td>0.78</td>\n",
       "      <td>0.50</td>\n",
       "      <td>B</td>\n",
       "      <td>PT</td>\n",
       "    </tr>\n",
       "    <tr>\n",
       "      <th>1</th>\n",
       "      <td>0.90</td>\n",
       "      <td>0.67</td>\n",
       "      <td>Si</td>\n",
       "      <td>PT</td>\n",
       "    </tr>\n",
       "    <tr>\n",
       "      <th>2</th>\n",
       "      <td>0.97</td>\n",
       "      <td>0.65</td>\n",
       "      <td>Ga</td>\n",
       "      <td>PT</td>\n",
       "    </tr>\n",
       "    <tr>\n",
       "      <th>3</th>\n",
       "      <td>1.04</td>\n",
       "      <td>0.76</td>\n",
       "      <td>Al</td>\n",
       "      <td>PT</td>\n",
       "    </tr>\n",
       "    <tr>\n",
       "      <th>4</th>\n",
       "      <td>1.10</td>\n",
       "      <td>0.79</td>\n",
       "      <td>Ir</td>\n",
       "      <td>PT</td>\n",
       "    </tr>\n",
       "  </tbody>\n",
       "</table>\n",
       "</div>"
      ],
      "text/plain": [
       "    rWC   rCh Atom Type\n",
       "0  0.78  0.50    B   PT\n",
       "1  0.90  0.67   Si   PT\n",
       "2  0.97  0.65   Ga   PT\n",
       "3  1.04  0.76   Al   PT\n",
       "4  1.10  0.79   Ir   PT"
      ]
     },
     "execution_count": 2,
     "metadata": {},
     "output_type": "execute_result"
    }
   ],
   "source": [
    "train=pd.read_csv('trainingdata.csv')      # read the csv file of training data\n",
    "train.head()                               #Displays the first 5 lines of train"
   ]
  },
  {
   "cell_type": "markdown",
   "id": "7f3f2112",
   "metadata": {},
   "source": [
    "We have to train data according to the rWC and rCh values and classify our atoms according to their Type.\n",
    "So for x and y we choose the first and second columns. The python indices of this data would be 0 for the first column and 1 for the 2nd column.\n",
    "and we have to classify them according to the column 4, whose index is 3."
   ]
  },
  {
   "cell_type": "code",
   "execution_count": 3,
   "id": "efd93cbd",
   "metadata": {},
   "outputs": [],
   "source": [
    "#we choose training data using the iloc command\n",
    "\n",
    "x=(train.iloc[:,0])          #for all rows we have put colon in rows place\n",
    "y=(train.iloc[:,1])\n",
    "c=train.iloc[:,3]\n"
   ]
  },
  {
   "cell_type": "code",
   "execution_count": 4,
   "id": "f37d2f01",
   "metadata": {},
   "outputs": [],
   "source": [
    "# Now we have our training data ready, so we import testing data arranged in the similar way\n",
    "\n",
    "test=pd.read_csv('testdata.csv')\n",
    "xtest=test.iloc[:,0]\n",
    "ytest=test.iloc[:,1]"
   ]
  },
  {
   "cell_type": "code",
   "execution_count": 5,
   "id": "559e102c",
   "metadata": {},
   "outputs": [
    {
     "name": "stdout",
     "output_type": "stream",
     "text": [
      "Atom:  X1 Classified as:  Alk\n",
      "The original classification is:  Alk\n",
      "Successfull Prediction\n",
      "Atom:  X2 Classified as:  TM\n",
      "The original classification is:  TM\n",
      "Successfull Prediction\n",
      "Atom:  X3 Classified as:  TM\n",
      "The original classification is:  PT\n",
      "Failed Prediction\n",
      "Atom:  X4 Classified as:  TM\n",
      "The original classification is:  TM\n",
      "Successfull Prediction\n",
      "Atom:  X5 Classified as:  Alk\n",
      "The original classification is:  Alk\n",
      "Successfull Prediction\n",
      "Thus Accuracy of our model is : 80.0 %\n",
      "We need more training data to train our model accurately\n"
     ]
    }
   ],
   "source": [
    "#Here we implement the K-nearest neighbour algorithm. for initial testing we choose k=5, but we may change its value depending on our data\n",
    "\n",
    "\n",
    "k=5\n",
    "success=0          #This is just a counter of successful testing\n",
    "\n",
    "for j in range(len(xtest)):        # This loop runs for number of classifications we have to make (Rows of Testing data)\n",
    "    dist=[[0]*len(x), [0]*len(x)]  # we reset the matrix dist every time we classify new point\n",
    "    npx=xtest[j]                   # x-value of current point\n",
    "    npy=ytest[j]                   # y-value of current point\n",
    "    \n",
    "    \n",
    "    for i in range(1,len(x)):     # This loop calculates the distance of current point from each point of the testing data.\n",
    "        dist[0][i]=(npx-float(x[i]))**2+(npy-float(y[i]))**2     #Distance formula\n",
    "        dist[1][i]=str(c.iloc[i])                                #The atom type has been enlisted in front of calculated distance\n",
    "    #dist = dist[dist[0, :].argsort()]\n",
    "    \n",
    "    \n",
    "    list1, list2 = zip(*sorted(zip(dist[0], dist[1])))           # sorts the two sublists according to the ascending order of the values in dist[0] list\n",
    "    klist=list2[:k]                                              # stores the first k classifications of the lists arranged in ascending order\n",
    "    npc=mode(klist)                                              # calculates the mode of the k classifications\n",
    "    print('Atom: ',test.iloc[j,2],'Classified as: ',npc)\n",
    "    print('The original classification is: ',test.iloc[j,3])\n",
    "    if (npc==test.iloc[j,3]):\n",
    "        print('Successfull Prediction')\n",
    "        success=success+1\n",
    "    else:\n",
    "        print('Failed Prediction')\n",
    "Accuracy=success/len(xtest)\n",
    "print('Thus Accuracy of our model is :',Accuracy*100,'%')\n",
    "if (Accuracy<0.9):\n",
    "    print('We need more training data to train our model accurately')\n",
    "else:\n",
    "    print('Our Model is Accurate enough!')"
   ]
  },
  {
   "cell_type": "markdown",
   "id": "d6d04004",
   "metadata": {},
   "source": [
    "# Example\n",
    "\n",
    "Here we test our algorithm on a dataset to predict if a student would pass or fail according to the number of hours a student spends on self study and the number of hours the students spends in tution."
   ]
  },
  {
   "cell_type": "code",
   "execution_count": 6,
   "id": "0905497a",
   "metadata": {},
   "outputs": [
    {
     "data": {
      "text/html": [
       "<div>\n",
       "<style scoped>\n",
       "    .dataframe tbody tr th:only-of-type {\n",
       "        vertical-align: middle;\n",
       "    }\n",
       "\n",
       "    .dataframe tbody tr th {\n",
       "        vertical-align: top;\n",
       "    }\n",
       "\n",
       "    .dataframe thead th {\n",
       "        text-align: right;\n",
       "    }\n",
       "</style>\n",
       "<table border=\"1\" class=\"dataframe\">\n",
       "  <thead>\n",
       "    <tr style=\"text-align: right;\">\n",
       "      <th></th>\n",
       "      <th>Self_Study_Daily</th>\n",
       "      <th>Tution_Monthly</th>\n",
       "      <th>Pass_Or_Fail</th>\n",
       "    </tr>\n",
       "  </thead>\n",
       "  <tbody>\n",
       "    <tr>\n",
       "      <th>0</th>\n",
       "      <td>7</td>\n",
       "      <td>27</td>\n",
       "      <td>1</td>\n",
       "    </tr>\n",
       "    <tr>\n",
       "      <th>1</th>\n",
       "      <td>2</td>\n",
       "      <td>43</td>\n",
       "      <td>0</td>\n",
       "    </tr>\n",
       "    <tr>\n",
       "      <th>2</th>\n",
       "      <td>7</td>\n",
       "      <td>26</td>\n",
       "      <td>1</td>\n",
       "    </tr>\n",
       "    <tr>\n",
       "      <th>3</th>\n",
       "      <td>8</td>\n",
       "      <td>29</td>\n",
       "      <td>1</td>\n",
       "    </tr>\n",
       "    <tr>\n",
       "      <th>4</th>\n",
       "      <td>3</td>\n",
       "      <td>42</td>\n",
       "      <td>0</td>\n",
       "    </tr>\n",
       "  </tbody>\n",
       "</table>\n",
       "</div>"
      ],
      "text/plain": [
       "   Self_Study_Daily  Tution_Monthly  Pass_Or_Fail\n",
       "0                 7              27             1\n",
       "1                 2              43             0\n",
       "2                 7              26             1\n",
       "3                 8              29             1\n",
       "4                 3              42             0"
      ]
     },
     "execution_count": 6,
     "metadata": {},
     "output_type": "execute_result"
    }
   ],
   "source": [
    "data=pd.read_csv('Student-Pass-Fail-Data.csv')\n",
    "data.head()"
   ]
  },
  {
   "cell_type": "markdown",
   "id": "b8191c04",
   "metadata": {},
   "source": [
    "The data has been imported and we need to separate the training and test data first.\n",
    "For this purpose we use a library sklearn.model_selection.train_test_split"
   ]
  },
  {
   "cell_type": "code",
   "execution_count": 7,
   "id": "4cfe342a",
   "metadata": {},
   "outputs": [],
   "source": [
    "x=data.iloc[:,0:2]\n",
    "c=data.iloc[:,2]\n",
    "from sklearn.model_selection import train_test_split\n",
    "xtrain1, xtest1, ctrain, ctest = train_test_split(x, c, test_size=0.33, random_state=42)"
   ]
  },
  {
   "cell_type": "code",
   "execution_count": 51,
   "id": "b1b92ee7",
   "metadata": {},
   "outputs": [],
   "source": [
    "xtrain=xtrain1.iloc[:,0]\n",
    "ytrain=xtrain1.iloc[:,1]\n",
    "xtest=xtest1.iloc[:,0]\n",
    "ytest=xtest1.iloc[:,1]"
   ]
  },
  {
   "cell_type": "code",
   "execution_count": 59,
   "id": "d65d3624",
   "metadata": {},
   "outputs": [
    {
     "name": "stdout",
     "output_type": "stream",
     "text": [
      "The Accuracy of our model is : 97.87878787878788 %\n",
      "Our Model is Accurate enough!\n"
     ]
    }
   ],
   "source": [
    "k=15\n",
    "success=0          #This is just a counter of successful testing\n",
    "\n",
    "for j in range(len(xtest)):        # This loop runs for number of classifications we have to make (Rows of Testing data)\n",
    "    dist=[[0]*len(xtrain), [0]*len(xtrain)]  # we reset the matrix dist every time we classify new point\n",
    "    npx=xtest.iloc[j]                   # x-value of current point\n",
    "    npy=ytest.iloc[j]                   # y-value of current point\n",
    "    \n",
    "    \n",
    "    for i in range(len(xtrain)):     # This loop calculates the distance of current point from each point of the testing data.\n",
    "        dist[0][i]=(float(npx)-float(xtrain.iloc[i]))**2+(float(npy)-float(ytrain.iloc[i]))**2     #Distance formula\n",
    "        dist[1][i]=str(ctrain.iloc[i])                                #The atom type has been enlisted in front of calculated distance\n",
    "    \n",
    "    \n",
    "    list1, list2 = zip(*sorted(zip(dist[0], dist[1])))           # sorts the two sublists according to the ascending order of the values in dist[0] list\n",
    "    klist=list2[:k]                                              # stores the first k classifications of the lists arranged in ascending order\n",
    "    npc=mode(klist)                                              # calculates the mode of the k classifications\n",
    "    if (int(npc)==int(ctest.iloc[j])):\n",
    "        #rint('Successfull Prediction')\n",
    "        success=success+1\n",
    "Accuracy=success/len(xtest)\n",
    "print('The Accuracy of our model is :',Accuracy*100,'%')\n",
    "if (Accuracy<0.9):\n",
    "    print('We need more training data to train our model accurately')\n",
    "else:\n",
    "    print('Our Model is Accurate enough!')"
   ]
  },
  {
   "cell_type": "code",
   "execution_count": null,
   "id": "8c964131",
   "metadata": {},
   "outputs": [],
   "source": []
  }
 ],
 "metadata": {
  "kernelspec": {
   "display_name": "Python 3",
   "language": "python",
   "name": "python3"
  },
  "language_info": {
   "codemirror_mode": {
    "name": "ipython",
    "version": 3
   },
   "file_extension": ".py",
   "mimetype": "text/x-python",
   "name": "python",
   "nbconvert_exporter": "python",
   "pygments_lexer": "ipython3",
   "version": "3.8.8"
  }
 },
 "nbformat": 4,
 "nbformat_minor": 5
}
